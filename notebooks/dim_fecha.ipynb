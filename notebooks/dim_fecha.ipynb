{
 "cells": [
  {
   "cell_type": "code",
   "id": "initial_id",
   "metadata": {
    "collapsed": true,
    "ExecuteTime": {
     "end_time": "2024-05-17T18:17:07.426334Z",
     "start_time": "2024-05-17T18:17:07.011765Z"
    }
   },
   "source": [
    "from datetime import date\n",
    "\n",
    "import pandas as pd\n",
    "import numpy as np\n",
    "import holidays\n",
    "import yaml"
   ],
   "execution_count": 1,
   "outputs": []
  },
  {
   "metadata": {},
   "cell_type": "markdown",
   "source": [
    "Para inicializar la dimension creamos un dataframe donde vamos a añadir las fechas y demas campos                   "
   ],
   "id": "3de7b1fcf2a91aec"
  },
  {
   "metadata": {
    "ExecuteTime": {
     "end_time": "2024-04-22T18:42:15.331107Z",
     "start_time": "2024-04-22T18:42:15.296478Z"
    }
   },
   "cell_type": "code",
   "source": [
    "dim_fecha = pd.DataFrame({\n",
    "    \"date\": pd.date_range(start='1/1/2005', end='1/1/2009', freq='D')\n",
    "})\n",
    "dim_fecha.head()"
   ],
   "id": "107951f26f65fdcd",
   "execution_count": 15,
   "outputs": []
  },
  {
   "metadata": {},
   "cell_type": "markdown",
   "source": [
    "vamos a añadir algunas columnas como lo son el año, mes, el dia, el dia de la semana y en que quarto del año"
   ],
   "id": "ee541135415548bf"
  },
  {
   "metadata": {
    "ExecuteTime": {
     "end_time": "2024-04-22T18:42:15.434463Z",
     "start_time": "2024-04-22T18:42:15.332666Z"
    }
   },
   "cell_type": "code",
   "source": [
    "dim_fecha[\"year\"] = dim_fecha[\"date\"].dt.year\n",
    "dim_fecha[\"month\"] = dim_fecha[\"date\"].dt.month\n",
    "dim_fecha[\"day\"] = dim_fecha[\"date\"].dt.day\n",
    "dim_fecha[\"weekday\"] = dim_fecha[\"date\"].dt.weekday\n",
    "dim_fecha[\"quarter\"] = dim_fecha[\"date\"].dt.quarter\n",
    "\n",
    "dim_fecha.head()"
   ],
   "id": "db5a5a1e9d28517a",
   "execution_count": 16,
   "outputs": []
  },
  {
   "metadata": {},
   "cell_type": "markdown",
   "source": [
    "ahora vamos a añadir la fecha en formato string para los dias, meses    "
   ],
   "id": "b0cbc1ee752498b"
  },
  {
   "metadata": {
    "ExecuteTime": {
     "end_time": "2024-04-22T18:42:15.615908Z",
     "start_time": "2024-04-22T18:42:15.435372Z"
    }
   },
   "cell_type": "code",
   "source": [
    "dim_fecha[\"day_of_year\"] = dim_fecha[\"date\"].dt.day_of_year\n",
    "dim_fecha[\"day_of_month\"] = dim_fecha[\"date\"].dt.days_in_month\n",
    "dim_fecha[\"month_str\"] = dim_fecha[\"date\"].dt.month_name() # run locale -a en unix \n",
    "dim_fecha[\"day_str\"] = dim_fecha[\"date\"].dt.day_name() # locale = 'es_CO.UTF8'\n",
    "dim_fecha[\"date_str\"] = dim_fecha[\"date\"].dt.strftime(\"%d/%m/%Y\")\n",
    "dim_fecha.head()"
   ],
   "id": "4cdf7557314905ff",
   "execution_count": 17,
   "outputs": []
  },
  {
   "cell_type": "markdown",
   "source": [
    "# holidays and weekend"
   ],
   "metadata": {
    "collapsed": false
   },
   "id": "926c2ee56ef05b69"
  },
  {
   "metadata": {
    "ExecuteTime": {
     "end_time": "2024-04-22T18:42:15.753114Z",
     "start_time": "2024-04-22T18:42:15.618056Z"
    }
   },
   "cell_type": "code",
   "source": [
    "co_holidays = holidays.CO(language=\"es\")\n",
    "dim_fecha[\"is_Holiday\"] = dim_fecha[\"date\"].apply(lambda x:  x in co_holidays)\n",
    "dim_fecha[\"holiday\"] = dim_fecha[\"date\"].apply(lambda x: co_holidays.get(x))\n",
    "dim_fecha[\"saved\"] = date.today()\n",
    "dim_fecha[\"weekend\"] = dim_fecha[\"weekday\"].apply(lambda x: x>4)\n",
    "dim_fecha.head()\n",
    "\n"
   ],
   "id": "d4a4f14ded7b1018",
   "execution_count": 18,
   "outputs": []
  },
  {
   "cell_type": "code",
   "source": [
    "from sqlalchemy import create_engine\n",
    "\n",
    "with open('../config.yml', 'r') as f:\n",
    "    config = yaml.safe_load(f)\n",
    "    config_co = config['CO_SA']\n",
    "    config_etl = config['ETL_PRO']\n",
    "\n",
    "# Construct the database URL\n",
    "url_co = (f\"{config_co['drivername']}://{config_co['user']}:{config_co['password']}@{config_co['host']}:\"\n",
    "          f\"{config_co['port']}/{config_co['dbname']}\")\n",
    "url_etl = (f\"{config_etl['drivername']}://{config_etl['user']}:{config_etl['password']}@{config_etl['host']}:\"\n",
    "           f\"{config_etl['port']}/{config_etl['dbname']}\")\n",
    "# Create the SQLAlchemy Engine\n",
    "co_sa = create_engine(url_co)\n",
    "etl_conn = create_engine(url_etl)"
   ],
   "metadata": {
    "collapsed": false,
    "ExecuteTime": {
     "end_time": "2024-04-22T18:42:15.859720Z",
     "start_time": "2024-04-22T18:42:15.754120Z"
    }
   },
   "id": "8d6efe020ae8098d",
   "execution_count": 19,
   "outputs": []
  },
  {
   "metadata": {
    "ExecuteTime": {
     "end_time": "2024-04-22T18:42:16.355515Z",
     "start_time": "2024-04-22T18:42:15.860684Z"
    }
   },
   "cell_type": "code",
   "source": "dim_fecha.to_sql('dim_fecha', etl_conn, if_exists='replace',index_label='key_dim_fecha')",
   "id": "244fdcbf5945d130",
   "execution_count": 20,
   "outputs": []
  }
 ],
 "metadata": {
  "kernelspec": {
   "display_name": "Python 3",
   "language": "python",
   "name": "python3"
  },
  "language_info": {
   "codemirror_mode": {
    "name": "ipython",
    "version": 2
   },
   "file_extension": ".py",
   "mimetype": "text/x-python",
   "name": "python",
   "nbconvert_exporter": "python",
   "pygments_lexer": "ipython2",
   "version": "2.7.6"
  }
 },
 "nbformat": 4,
 "nbformat_minor": 5
}
