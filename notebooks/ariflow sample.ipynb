{
 "cells": [
  {
   "metadata": {},
   "cell_type": "code",
   "outputs": [],
   "execution_count": null,
   "source": [
    "from datetime import datetime, timedelta\n",
    "from airflow import DAG\n",
    "from airflow.operators.python_operator import PythonOperator\n",
    "\n",
    "# Define the DAG\n",
    "dag = DAG(\n",
    "    'example_xcom_schedule',\n",
    "    default_args={\n",
    "        'owner': 'airflow',\n",
    "        'retries': 1,\n",
    "        'retry_delay': timedelta(minutes=5),\n",
    "    },\n",
    "    description='An example DAG demonstrating how to use XComs to pass data between tasks.',\n",
    "    schedule_interval=timedelta(days=1),\n",
    "    start_date=datetime(2024, 4, 22),\n",
    ")\n",
    "\n",
    "# Task 1: Generate a parameter\n",
    "def generate_parameter(**context):\n",
    "    parameter_value = 42  # Example parameter value\n",
    "    # Return the parameter value\n",
    "    return parameter_value\n",
    "\n",
    "generate_parameter_task = PythonOperator(\n",
    "    task_id='generate_parameter',\n",
    "    python_callable=generate_parameter,\n",
    "    provide_context=True,\n",
    "    dag=dag,\n",
    ")\n",
    "\n",
    "# Task 2: Use the parameter from Task 1\n",
    "def use_parameter(**context):\n",
    "    # Fetch the parameter from the previous task's XCom\n",
    "    ti = context['ti']\n",
    "    parameter_value = ti.xcom_pull(task_ids='generate_parameter')\n",
    "    \n",
    "    # Use the parameter in this task\n",
    "    print(f\"Parameter received from Task 1: {parameter_value}\")\n",
    "    # Perform the necessary task with the parameter\n",
    "    \n",
    "use_parameter_task = PythonOperator(\n",
    "    task_id='use_parameter',\n",
    "    python_callable=use_parameter,\n",
    "    provide_context=True,\n",
    "    dag=dag,\n",
    ")\n",
    "\n",
    "# Define the task dependencies\n",
    "generate_parameter_task >> use_parameter_task\n"
   ],
   "id": "468ebfb04d224c30"
  }
 ],
 "metadata": {
  "kernelspec": {
   "display_name": "Python 3",
   "language": "python",
   "name": "python3"
  },
  "language_info": {
   "codemirror_mode": {
    "name": "ipython",
    "version": 2
   },
   "file_extension": ".py",
   "mimetype": "text/x-python",
   "name": "python",
   "nbconvert_exporter": "python",
   "pygments_lexer": "ipython2",
   "version": "2.7.6"
  }
 },
 "nbformat": 4,
 "nbformat_minor": 5
}
