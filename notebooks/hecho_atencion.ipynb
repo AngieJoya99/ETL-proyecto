{
 "cells": [
  {
   "cell_type": "code",
   "id": "initial_id",
   "metadata": {
    "collapsed": true,
    "ExecuteTime": {
     "end_time": "2024-04-23T21:16:20.463901Z",
     "start_time": "2024-04-23T21:16:20.067720Z"
    }
   },
   "source": [
    "import datetime\n",
    "\n",
    "import numpy as np\n",
    "import pandas as pd\n",
    "import yaml\n",
    "from sqlalchemy import create_engine\n"
   ],
   "outputs": [],
   "execution_count": 1
  },
  {
   "metadata": {},
   "cell_type": "markdown",
   "source": "# database connections ",
   "id": "db03f95a7df1a4b6"
  },
  {
   "metadata": {
    "ExecuteTime": {
     "end_time": "2024-04-23T21:16:20.498313Z",
     "start_time": "2024-04-23T21:16:20.465210Z"
    }
   },
   "cell_type": "code",
   "source": [
    "with open('../config.yml', 'r') as f:\n",
    "    config = yaml.safe_load(f)\n",
    "    config_co = config['CO_SA']\n",
    "    config_etl = config['ETL_PRO']\n",
    "\n",
    "# Construct the database URL\n",
    "url_co = (f\"{config_co['drivername']}://{config_co['user']}:{config_co['password']}@{config_co['host']}:\"\n",
    "          f\"{config_co['port']}/{config_co['dbname']}\")\n",
    "url_etl = (f\"{config_etl['drivername']}://{config_etl['user']}:{config_etl['password']}@{config_etl['host']}:\"\n",
    "           f\"{config_etl['port']}/{config_etl['dbname']}\")\n",
    "# Create the SQLAlchemy Engine\n",
    "co_sa = create_engine(url_co)\n",
    "etl_conn = create_engine(url_etl)"
   ],
   "id": "144a0300670ffeb2",
   "outputs": [],
   "execution_count": 2
  },
  {
   "metadata": {},
   "cell_type": "markdown",
   "source": "# Extract",
   "id": "81c0463f41c69b6e"
  },
  {
   "metadata": {
    "ExecuteTime": {
     "end_time": "2024-04-23T21:16:21.708765Z",
     "start_time": "2024-04-23T21:16:20.499578Z"
    }
   },
   "cell_type": "code",
   "source": [
    "df_trans = pd.read_sql_table('trans_servicio', etl_conn)\n",
    "dim_persona = pd.read_sql_table('dim_persona', etl_conn)\n",
    "dim_medico = pd.read_sql_table('dim_medico', etl_conn)\n",
    "dim_servicio = pd.read_sql_table('dim_servicio', etl_conn)\n",
    "dim_ips = pd.read_sql_table('dim_ips', etl_conn)\n",
    "dim_fecha = pd.read_sql_table('dim_fecha', etl_conn)"
   ],
   "id": "a72d94e72d050364",
   "outputs": [
    {
     "ename": "ValueError",
     "evalue": "Table dim_servicio not found",
     "output_type": "error",
     "traceback": [
      "\u001B[0;31m---------------------------------------------------------------------------\u001B[0m",
      "\u001B[0;31mValueError\u001B[0m                                Traceback (most recent call last)",
      "Cell \u001B[0;32mIn[3], line 4\u001B[0m\n\u001B[1;32m      2\u001B[0m dim_persona \u001B[38;5;241m=\u001B[39m pd\u001B[38;5;241m.\u001B[39mread_sql_table(\u001B[38;5;124m'\u001B[39m\u001B[38;5;124mdim_persona\u001B[39m\u001B[38;5;124m'\u001B[39m, etl_conn)\n\u001B[1;32m      3\u001B[0m dim_medico \u001B[38;5;241m=\u001B[39m pd\u001B[38;5;241m.\u001B[39mread_sql_table(\u001B[38;5;124m'\u001B[39m\u001B[38;5;124mdim_medico\u001B[39m\u001B[38;5;124m'\u001B[39m, etl_conn)\n\u001B[0;32m----> 4\u001B[0m dim_servicio \u001B[38;5;241m=\u001B[39m pd\u001B[38;5;241m.\u001B[39mread_sql_table(\u001B[38;5;124m'\u001B[39m\u001B[38;5;124mdim_servicio\u001B[39m\u001B[38;5;124m'\u001B[39m, etl_conn)\n\u001B[1;32m      5\u001B[0m dim_ips \u001B[38;5;241m=\u001B[39m pd\u001B[38;5;241m.\u001B[39mread_sql_table(\u001B[38;5;124m'\u001B[39m\u001B[38;5;124mdim_ips\u001B[39m\u001B[38;5;124m'\u001B[39m, etl_conn)\n\u001B[1;32m      6\u001B[0m dim_fecha \u001B[38;5;241m=\u001B[39m pd\u001B[38;5;241m.\u001B[39mread_sql_table(\u001B[38;5;124m'\u001B[39m\u001B[38;5;124mdim_fecha\u001B[39m\u001B[38;5;124m'\u001B[39m, etl_conn)\n",
      "File \u001B[0;32m~/anaconda3/envs/co_saludable_etl/lib/python3.11/site-packages/pandas/io/sql.py:346\u001B[0m, in \u001B[0;36mread_sql_table\u001B[0;34m(table_name, con, schema, index_col, coerce_float, parse_dates, columns, chunksize, dtype_backend)\u001B[0m\n\u001B[1;32m    344\u001B[0m \u001B[38;5;28;01mwith\u001B[39;00m pandasSQL_builder(con, schema\u001B[38;5;241m=\u001B[39mschema, need_transaction\u001B[38;5;241m=\u001B[39m\u001B[38;5;28;01mTrue\u001B[39;00m) \u001B[38;5;28;01mas\u001B[39;00m pandas_sql:\n\u001B[1;32m    345\u001B[0m     \u001B[38;5;28;01mif\u001B[39;00m \u001B[38;5;129;01mnot\u001B[39;00m pandas_sql\u001B[38;5;241m.\u001B[39mhas_table(table_name):\n\u001B[0;32m--> 346\u001B[0m         \u001B[38;5;28;01mraise\u001B[39;00m \u001B[38;5;167;01mValueError\u001B[39;00m(\u001B[38;5;124mf\u001B[39m\u001B[38;5;124m\"\u001B[39m\u001B[38;5;124mTable \u001B[39m\u001B[38;5;132;01m{\u001B[39;00mtable_name\u001B[38;5;132;01m}\u001B[39;00m\u001B[38;5;124m not found\u001B[39m\u001B[38;5;124m\"\u001B[39m)\n\u001B[1;32m    348\u001B[0m     table \u001B[38;5;241m=\u001B[39m pandas_sql\u001B[38;5;241m.\u001B[39mread_table(\n\u001B[1;32m    349\u001B[0m         table_name,\n\u001B[1;32m    350\u001B[0m         index_col\u001B[38;5;241m=\u001B[39mindex_col,\n\u001B[0;32m   (...)\u001B[0m\n\u001B[1;32m    355\u001B[0m         dtype_backend\u001B[38;5;241m=\u001B[39mdtype_backend,\n\u001B[1;32m    356\u001B[0m     )\n\u001B[1;32m    358\u001B[0m \u001B[38;5;28;01mif\u001B[39;00m table \u001B[38;5;129;01mis\u001B[39;00m \u001B[38;5;129;01mnot\u001B[39;00m \u001B[38;5;28;01mNone\u001B[39;00m:\n",
      "\u001B[0;31mValueError\u001B[0m: Table dim_servicio not found"
     ]
    }
   ],
   "execution_count": 3
  },
  {
   "metadata": {},
   "cell_type": "markdown",
   "source": "",
   "id": "f8d106f89e30820a"
  },
  {
   "metadata": {},
   "cell_type": "code",
   "source": "",
   "id": "d0c46a86795fc2f8",
   "outputs": [],
   "execution_count": null
  },
  {
   "metadata": {},
   "cell_type": "markdown",
   "source": "# Transformations",
   "id": "bcbf3f52656f1933"
  },
  {
   "metadata": {},
   "cell_type": "code",
   "source": [
    "hecho_atencion = pd.merge(df_trans,dim_fecha[['date','key_dim_fecha']],left_on='fecha_atencion',right_on='date')\n",
    "hecho_atencion.drop(columns=['date'], inplace=True)\n",
    "hecho_atencion.rename(columns={'key_dim_fecha':'key_fecha_atencion','id_medico':'cedula','id_usuario':'numero_identificacion'}, inplace=True)\n",
    "hecho_atencion = pd.merge(hecho_atencion,dim_fecha[['date','key_dim_fecha']],left_on='fecha_solicitud',right_on='date')\n",
    "hecho_atencion.drop(columns=['date'], inplace=True)\n",
    "hecho_atencion.rename(columns={'key_dim_fecha':'key_fecha_solicitud'}, inplace=True)\n",
    "\n",
    "hecho_atencion.head()"
   ],
   "id": "d7b1fb301e19108b",
   "outputs": [],
   "execution_count": null
  },
  {
   "metadata": {},
   "cell_type": "code",
   "source": [
    "hecho_atencion= hecho_atencion.merge(dim_persona[['key_dim_persona','numero_identificacion']])\n",
    "hecho_atencion.drop(columns=['numero_identificacion'], inplace=True)\n",
    "\n",
    "hecho_atencion= hecho_atencion.merge(dim_medico[['key_dim_medico','cedula','id_ips']])\n",
    "hecho_atencion.drop(columns=['cedula'], inplace=True)\n",
    "\n",
    "hecho_atencion= hecho_atencion.merge(dim_ips[['key_dim_ips','id_ips']])\n",
    "hecho_atencion.drop(columns=['id_ips'], inplace=True)\n",
    "hecho_atencion.head()"
   ],
   "id": "9dec0d1453c0bb20",
   "outputs": [],
   "execution_count": null
  },
  {
   "metadata": {},
   "cell_type": "code",
   "source": [
    "hecho_atencion= hecho_atencion.merge(dim_servicio[['name','key_dim_servicio']],left_on='tipo_servicio',right_on='name')\n",
    "hecho_atencion.drop(columns=['name','tipo_servicio'], inplace=True)\n",
    "hecho_atencion.head()"
   ],
   "id": "6d6bc70c8d08665d",
   "outputs": [],
   "execution_count": null
  },
  {
   "metadata": {},
   "cell_type": "markdown",
   "source": "# tiempo de espera",
   "id": "54640a3b0fe2acb2"
  },
  {
   "metadata": {},
   "cell_type": "code",
   "source": [
    "hecho_atencion['tiempo_espera'] = hecho_atencion['fecha_hora_atencion'] - hecho_atencion['fecha_hora_solicitud']\n",
    "hecho_atencion['tiempo_espera_dias'] = hecho_atencion['tiempo_espera'].dt.days\n",
    "hecho_atencion['tiempo_espera_minutos'] = hecho_atencion['tiempo_espera'].dt.seconds // 60 \n",
    "hecho_atencion['tiempo_espera_horas'] = hecho_atencion['tiempo_espera'].dt.seconds // (60 * 60)\n",
    "hecho_atencion['tiempo_espera_segundos'] = hecho_atencion['tiempo_espera'].dt.seconds\n",
    "\n",
    "hecho_atencion.drop(columns=['tiempo_espera','fecha_atencion','fecha_solicitud','hora_solicitud','hora_atencion','fecha_hora_solicitud','fecha_hora_atencion','codigo_servicio'], inplace=True)\n",
    "hecho_atencion.head()\n"
   ],
   "id": "663227adeb3c56f0",
   "outputs": [],
   "execution_count": null
  },
  {
   "metadata": {},
   "cell_type": "code",
   "source": [
    "from datetime import date\n",
    "\n",
    "hecho_atencion['saved'] = date.today()"
   ],
   "id": "9b91adb850a19a6b",
   "outputs": [],
   "execution_count": null
  },
  {
   "metadata": {},
   "cell_type": "markdown",
   "source": "",
   "id": "a01d3db7863469fc"
  },
  {
   "metadata": {},
   "cell_type": "markdown",
   "source": "# load",
   "id": "a8fea8d82baea651"
  },
  {
   "metadata": {},
   "cell_type": "code",
   "source": "hecho_atencion.to_sql('hecho_atencion',etl_conn,if_exists='replace',index_label='key_hecho_atencion')",
   "id": "3a8322664978322e",
   "outputs": [],
   "execution_count": null
  }
 ],
 "metadata": {
  "kernelspec": {
   "display_name": "Python 3",
   "language": "python",
   "name": "python3"
  },
  "language_info": {
   "codemirror_mode": {
    "name": "ipython",
    "version": 2
   },
   "file_extension": ".py",
   "mimetype": "text/x-python",
   "name": "python",
   "nbconvert_exporter": "python",
   "pygments_lexer": "ipython2",
   "version": "2.7.6"
  }
 },
 "nbformat": 4,
 "nbformat_minor": 5
}
