{
 "cells": [
  {
   "cell_type": "code",
   "id": "initial_id",
   "metadata": {
    "collapsed": true,
    "ExecuteTime": {
     "end_time": "2024-04-22T18:43:37.659822Z",
     "start_time": "2024-04-22T18:43:37.653259Z"
    }
   },
   "source": [
    "import numpy as np\n",
    "import pandas as pd\n",
    "import yaml\n",
    "from sqlalchemy import create_engine\n"
   ],
   "execution_count": 3,
   "outputs": []
  },
  {
   "metadata": {},
   "cell_type": "markdown",
   "source": "# database connections ",
   "id": "db03f95a7df1a4b6"
  },
  {
   "metadata": {
    "ExecuteTime": {
     "end_time": "2024-04-22T18:43:37.774531Z",
     "start_time": "2024-04-22T18:43:37.682300Z"
    }
   },
   "cell_type": "code",
   "source": [
    "with open('../config.yml', 'r') as f:\n",
    "    config = yaml.safe_load(f)\n",
    "    config_co = config['CO_SA']\n",
    "    config_etl = config['ETL_PRO']\n",
    "\n",
    "# Construct the database URL\n",
    "url_co = (f\"{config_co['drivername']}://{config_co['user']}:{config_co['password']}@{config_co['host']}:\"\n",
    "          f\"{config_co['port']}/{config_co['dbname']}\")\n",
    "url_etl = (f\"{config_etl['drivername']}://{config_etl['user']}:{config_etl['password']}@{config_etl['host']}:\"\n",
    "           f\"{config_etl['port']}/{config_etl['dbname']}\")\n",
    "# Create the SQLAlchemy Engine\n",
    "co_sa = create_engine(url_co)\n",
    "etl_conn = create_engine(url_etl)"
   ],
   "id": "144a0300670ffeb2",
   "execution_count": 4,
   "outputs": []
  },
  {
   "metadata": {},
   "cell_type": "markdown",
   "source": "# Extract",
   "id": "81c0463f41c69b6e"
  },
  {
   "metadata": {},
   "cell_type": "markdown",
   "source": "# Transformations",
   "id": "bcbf3f52656f1933"
  },
  {
   "metadata": {
    "ExecuteTime": {
     "end_time": "2024-04-22T18:43:37.841761Z",
     "start_time": "2024-04-22T18:43:37.775836Z"
    }
   },
   "cell_type": "code",
   "source": [
    "dim_servicio = pd.DataFrame({\n",
    "    'name' : ['citas','hospitalizacion','urgencias'],\n",
    "    'descripcion' : ['servicio de citas medicas', 'servicio de hospitalizacion', 'servicio de urgencias']\n",
    "})"
   ],
   "id": "d7b1fb301e19108b",
   "execution_count": 5,
   "outputs": []
  },
  {
   "metadata": {
    "ExecuteTime": {
     "end_time": "2024-04-22T18:43:37.939228Z",
     "start_time": "2024-04-22T18:43:37.845645Z"
    }
   },
   "cell_type": "code",
   "source": [
    "from datetime import date\n",
    "\n",
    "dim_servicio['saved'] = date.today()"
   ],
   "id": "86c882e7795705fe",
   "execution_count": 6,
   "outputs": []
  },
  {
   "metadata": {},
   "cell_type": "markdown",
   "source": "# load",
   "id": "a8fea8d82baea651"
  },
  {
   "metadata": {
    "ExecuteTime": {
     "end_time": "2024-04-22T18:43:38.056766Z",
     "start_time": "2024-04-22T18:43:37.941796Z"
    }
   },
   "cell_type": "code",
   "source": "dim_servicio.head()",
   "id": "f610d5a71a15d10",
   "execution_count": 7,
   "outputs": []
  },
  {
   "metadata": {
    "ExecuteTime": {
     "end_time": "2024-04-22T18:43:38.395118Z",
     "start_time": "2024-04-22T18:43:38.061063Z"
    }
   },
   "cell_type": "code",
   "source": "dim_servicio.to_sql('dim_servicio', etl_conn, if_exists='replace',index_label='key_dim_servicio')",
   "id": "e0fed4f656eaae09",
   "execution_count": 8,
   "outputs": []
  }
 ],
 "metadata": {
  "kernelspec": {
   "display_name": "Python 3",
   "language": "python",
   "name": "python3"
  },
  "language_info": {
   "codemirror_mode": {
    "name": "ipython",
    "version": 2
   },
   "file_extension": ".py",
   "mimetype": "text/x-python",
   "name": "python",
   "nbconvert_exporter": "python",
   "pygments_lexer": "ipython2",
   "version": "2.7.6"
  }
 },
 "nbformat": 4,
 "nbformat_minor": 5
}
