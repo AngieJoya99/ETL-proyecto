{
 "cells": [
  {
   "cell_type": "code",
   "id": "initial_id",
   "metadata": {
    "collapsed": true,
    "ExecuteTime": {
     "end_time": "2024-05-17T18:21:56.956199Z",
     "start_time": "2024-05-17T18:21:56.609633Z"
    }
   },
   "source": [
    "from datetime import date\n",
    "\n",
    "import pandas as pd\n",
    "import yaml\n",
    "from sqlalchemy import create_engine\n"
   ],
   "execution_count": 1,
   "outputs": []
  },
  {
   "metadata": {},
   "cell_type": "markdown",
   "source": "# database connections ",
   "id": "db03f95a7df1a4b6"
  },
  {
   "metadata": {
    "ExecuteTime": {
     "end_time": "2024-05-17T18:23:01.339134Z",
     "start_time": "2024-05-17T18:23:01.332456Z"
    }
   },
   "cell_type": "code",
   "source": [
    "with open('../config.yml', 'r') as f:\n",
    "    config = yaml.safe_load(f)\n",
    "    config_co = config['CO_SA']\n",
    "    config_etl = config['ETL_PRO']\n",
    "\n",
    "# Construct the database URL\n",
    "url_co = (f\"{config_co['drivername']}://{config_co['user']}:{config_co['password']}@{config_co['host']}:\"\n",
    "          f\"{config_co['port']}/{config_co['dbname']}\")\n",
    "url_etl = (f\"{config_etl['drivername']}://{config_etl['user']}:{config_etl['password']}@{config_etl['host']}:\"\n",
    "           f\"{config_etl['port']}/{config_etl['dbname']}\")\n",
    "# Create the SQLAlchemy Engine\n",
    "co_sa = create_engine(url_co)\n",
    "etl_conn = create_engine(url_etl)\n",
    "\n",
    "with etl_conn.connect() as conn:\n",
    "    "
   ],
   "id": "144a0300670ffeb2",
   "execution_count": 3,
   "outputs": []
  },
  {
   "metadata": {},
   "cell_type": "markdown",
   "source": "# Extract",
   "id": "81c0463f41c69b6e"
  },
  {
   "metadata": {
    "ExecuteTime": {
     "end_time": "2024-05-17T18:23:02.741178Z",
     "start_time": "2024-05-17T18:23:02.124751Z"
    }
   },
   "cell_type": "code",
   "source": [
    "dim_ips = pd.read_sql_table('ips', co_sa)\n",
    "dim_ips.info()\n"
   ],
   "id": "b6ef98438750beb7",
   "execution_count": 4,
   "outputs": []
  },
  {
   "metadata": {},
   "cell_type": "markdown",
   "source": "# Transformations",
   "id": "bcbf3f52656f1933"
  },
  {
   "metadata": {
    "ExecuteTime": {
     "end_time": "2024-05-17T18:23:03.921084Z",
     "start_time": "2024-05-17T18:23:03.916670Z"
    }
   },
   "cell_type": "code",
   "source": "dim_ips.replace({'':'0'},inplace=True)",
   "id": "f0a2eeb4ae2855f7",
   "execution_count": 5,
   "outputs": []
  },
  {
   "metadata": {
    "ExecuteTime": {
     "end_time": "2024-04-22T18:41:16.607434Z",
     "start_time": "2024-04-22T18:41:16.477542Z"
    }
   },
   "cell_type": "code",
   "source": [
    "dim_ips[\"saved\"] = date.today()\n",
    "dim_ips.describe(include='all')"
   ],
   "id": "65dfce5d7f5ef5c0",
   "execution_count": 9,
   "outputs": []
  },
  {
   "metadata": {},
   "cell_type": "markdown",
   "source": "# load",
   "id": "a8fea8d82baea651"
  },
  {
   "metadata": {
    "ExecuteTime": {
     "end_time": "2024-04-22T18:41:35.783423Z",
     "start_time": "2024-04-22T18:41:35.493019Z"
    }
   },
   "cell_type": "code",
   "source": "dim_ips.to_sql('dim_ips', etl_conn, if_exists='replace',index_label='key_dim_ips')",
   "id": "e0fed4f656eaae09",
   "execution_count": 11,
   "outputs": []
  },
  {
   "metadata": {},
   "cell_type": "code",
   "execution_count": null,
   "source": "",
   "id": "45de4231d4eaa162",
   "outputs": []
  }
 ],
 "metadata": {
  "kernelspec": {
   "display_name": "Python 3",
   "language": "python",
   "name": "python3"
  },
  "language_info": {
   "codemirror_mode": {
    "name": "ipython",
    "version": 2
   },
   "file_extension": ".py",
   "mimetype": "text/x-python",
   "name": "python",
   "nbconvert_exporter": "python",
   "pygments_lexer": "ipython2",
   "version": "2.7.6"
  }
 },
 "nbformat": 4,
 "nbformat_minor": 5
}
