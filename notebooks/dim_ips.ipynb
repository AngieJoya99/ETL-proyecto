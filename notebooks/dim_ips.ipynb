{
 "cells": [
  {
   "cell_type": "code",
   "id": "initial_id",
   "metadata": {
    "collapsed": true,
    "ExecuteTime": {
     "end_time": "2024-04-12T22:10:35.274860Z",
     "start_time": "2024-04-12T22:10:35.268978Z"
    }
   },
   "source": [
    "import pandas as pd\n",
    "import yaml\n",
    "from sqlalchemy import create_engine\n"
   ],
   "outputs": [],
   "execution_count": 18
  },
  {
   "metadata": {},
   "cell_type": "markdown",
   "source": "# database connections ",
   "id": "db03f95a7df1a4b6"
  },
  {
   "metadata": {
    "ExecuteTime": {
     "end_time": "2024-04-12T22:10:35.628816Z",
     "start_time": "2024-04-12T22:10:35.620884Z"
    }
   },
   "cell_type": "code",
   "source": [
    "with open('config.yml', 'r') as f:\n",
    "    config = yaml.safe_load(f)\n",
    "    config_co = config['CO_SA']\n",
    "    config_etl = config['ETL_PRO']\n",
    "\n",
    "# Construct the database URL\n",
    "url_co = (f\"{config_co['drivername']}://{config_co['user']}:{config_co['password']}@{config_co['host']}:\"\n",
    "          f\"{config_co['port']}/{config_co['dbname']}\")\n",
    "url_etl = (f\"{config_etl['drivername']}://{config_etl['user']}:{config_etl['password']}@{config_etl['host']}:\"\n",
    "           f\"{config_etl['port']}/{config_etl['dbname']}\")\n",
    "# Create the SQLAlchemy Engine\n",
    "co_sa = create_engine(url_co)\n",
    "etl_conn = create_engine(url_etl)"
   ],
   "id": "144a0300670ffeb2",
   "outputs": [],
   "execution_count": 19
  },
  {
   "metadata": {},
   "cell_type": "markdown",
   "source": "# Extract",
   "id": "81c0463f41c69b6e"
  },
  {
   "metadata": {
    "ExecuteTime": {
     "end_time": "2024-04-12T22:13:12.990564Z",
     "start_time": "2024-04-12T22:13:12.962265Z"
    }
   },
   "cell_type": "code",
   "source": [
    "dim_ips = pd.read_sql_table('ips', co_sa)\n",
    "dim_ips.info()\n"
   ],
   "id": "b6ef98438750beb7",
   "outputs": [],
   "execution_count": 24
  },
  {
   "metadata": {},
   "cell_type": "markdown",
   "source": "# Transformations",
   "id": "bcbf3f52656f1933"
  },
  {
   "metadata": {
    "ExecuteTime": {
     "end_time": "2024-04-12T22:13:15.649321Z",
     "start_time": "2024-04-12T22:13:15.638887Z"
    }
   },
   "cell_type": "code",
   "source": "dim_ips.replace({'':'0'},inplace=True)",
   "id": "f0a2eeb4ae2855f7",
   "outputs": [
    {
     "name": "stdout",
     "output_type": "stream",
     "text": [
      "<class 'pandas.core.frame.DataFrame'>\n",
      "RangeIndex: 86 entries, 0 to 85\n",
      "Data columns (total 7 columns):\n",
      " #   Column        Non-Null Count  Dtype \n",
      "---  ------        --------------  ----- \n",
      " 0   id_ips        86 non-null     object\n",
      " 1   tipo_ips      86 non-null     object\n",
      " 2   nombre        86 non-null     object\n",
      " 3   direccion     86 non-null     object\n",
      " 4   nivel         86 non-null     object\n",
      " 5   municipio     86 non-null     object\n",
      " 6   departamento  86 non-null     object\n",
      "dtypes: object(7)\n",
      "memory usage: 4.8+ KB\n"
     ]
    }
   ],
   "execution_count": 25
  },
  {
   "metadata": {
    "ExecuteTime": {
     "end_time": "2024-04-12T22:13:16.609004Z",
     "start_time": "2024-04-12T22:13:16.570194Z"
    }
   },
   "cell_type": "code",
   "source": "dim_ips.describe(include='all')",
   "id": "65dfce5d7f5ef5c0",
   "outputs": [
    {
     "data": {
      "text/plain": [
       "       id_ips  tipo_ips                         nombre        direccion nivel  \\\n",
       "count      86        86                             86               86    86   \n",
       "unique     86         6                             83               86     6   \n",
       "top     IPS_1  Hospital  Hospital Isaías Duarte Cancio  Kra 76 # 38-102     0   \n",
       "freq        1        27                              2                1    59   \n",
       "\n",
       "       municipio  departamento  \n",
       "count         86            86  \n",
       "unique        23             7  \n",
       "top         Cali  Cundinamarca  \n",
       "freq          11            15  "
      ],
      "text/html": [
       "<div>\n",
       "<style scoped>\n",
       "    .dataframe tbody tr th:only-of-type {\n",
       "        vertical-align: middle;\n",
       "    }\n",
       "\n",
       "    .dataframe tbody tr th {\n",
       "        vertical-align: top;\n",
       "    }\n",
       "\n",
       "    .dataframe thead th {\n",
       "        text-align: right;\n",
       "    }\n",
       "</style>\n",
       "<table border=\"1\" class=\"dataframe\">\n",
       "  <thead>\n",
       "    <tr style=\"text-align: right;\">\n",
       "      <th></th>\n",
       "      <th>id_ips</th>\n",
       "      <th>tipo_ips</th>\n",
       "      <th>nombre</th>\n",
       "      <th>direccion</th>\n",
       "      <th>nivel</th>\n",
       "      <th>municipio</th>\n",
       "      <th>departamento</th>\n",
       "    </tr>\n",
       "  </thead>\n",
       "  <tbody>\n",
       "    <tr>\n",
       "      <th>count</th>\n",
       "      <td>86</td>\n",
       "      <td>86</td>\n",
       "      <td>86</td>\n",
       "      <td>86</td>\n",
       "      <td>86</td>\n",
       "      <td>86</td>\n",
       "      <td>86</td>\n",
       "    </tr>\n",
       "    <tr>\n",
       "      <th>unique</th>\n",
       "      <td>86</td>\n",
       "      <td>6</td>\n",
       "      <td>83</td>\n",
       "      <td>86</td>\n",
       "      <td>6</td>\n",
       "      <td>23</td>\n",
       "      <td>7</td>\n",
       "    </tr>\n",
       "    <tr>\n",
       "      <th>top</th>\n",
       "      <td>IPS_1</td>\n",
       "      <td>Hospital</td>\n",
       "      <td>Hospital Isaías Duarte Cancio</td>\n",
       "      <td>Kra 76 # 38-102</td>\n",
       "      <td>0</td>\n",
       "      <td>Cali</td>\n",
       "      <td>Cundinamarca</td>\n",
       "    </tr>\n",
       "    <tr>\n",
       "      <th>freq</th>\n",
       "      <td>1</td>\n",
       "      <td>27</td>\n",
       "      <td>2</td>\n",
       "      <td>1</td>\n",
       "      <td>59</td>\n",
       "      <td>11</td>\n",
       "      <td>15</td>\n",
       "    </tr>\n",
       "  </tbody>\n",
       "</table>\n",
       "</div>"
      ]
     },
     "execution_count": 26,
     "metadata": {},
     "output_type": "execute_result"
    }
   ],
   "execution_count": 26
  },
  {
   "metadata": {},
   "cell_type": "markdown",
   "source": "# load",
   "id": "a8fea8d82baea651"
  },
  {
   "metadata": {
    "ExecuteTime": {
     "end_time": "2024-04-12T22:13:19.234386Z",
     "start_time": "2024-04-12T22:13:18.982405Z"
    }
   },
   "cell_type": "code",
   "source": "dim_ips.to_sql('dim_ips', etl_conn, if_exists='append',index_label='key_ips')",
   "id": "e0fed4f656eaae09",
   "outputs": [
    {
     "data": {
      "text/plain": [
       "86"
      ]
     },
     "execution_count": 27,
     "metadata": {},
     "output_type": "execute_result"
    }
   ],
   "execution_count": 27
  }
 ],
 "metadata": {
  "kernelspec": {
   "display_name": "Python 3",
   "language": "python",
   "name": "python3"
  },
  "language_info": {
   "codemirror_mode": {
    "name": "ipython",
    "version": 2
   },
   "file_extension": ".py",
   "mimetype": "text/x-python",
   "name": "python",
   "nbconvert_exporter": "python",
   "pygments_lexer": "ipython2",
   "version": "2.7.6"
  }
 },
 "nbformat": 4,
 "nbformat_minor": 5
}
