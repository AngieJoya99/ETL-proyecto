{
 "cells": [
  {
   "cell_type": "code",
   "id": "initial_id",
   "metadata": {
    "collapsed": true,
    "ExecuteTime": {
     "end_time": "2024-04-23T13:52:04.811049Z",
     "start_time": "2024-04-23T13:52:04.422661Z"
    }
   },
   "source": [
    "from datetime import date\n",
    "\n",
    "import numpy as np\n",
    "import pandas as pd\n",
    "import yaml\n",
    "from sqlalchemy import create_engine\n"
   ],
   "execution_count": 1,
   "outputs": []
  },
  {
   "metadata": {},
   "cell_type": "markdown",
   "source": "# database connections ",
   "id": "db03f95a7df1a4b6"
  },
  {
   "metadata": {
    "ExecuteTime": {
     "end_time": "2024-04-23T13:52:04.846963Z",
     "start_time": "2024-04-23T13:52:04.812428Z"
    }
   },
   "cell_type": "code",
   "source": [
    "with open('../config.yml', 'r') as f:\n",
    "    config = yaml.safe_load(f)\n",
    "    config_co = config['CO_SA']\n",
    "    config_etl = config['ETL_PRO']\n",
    "\n",
    "# Construct the database URL\n",
    "url_co = (f\"{config_co['drivername']}://{config_co['user']}:{config_co['password']}@{config_co['host']}:\"\n",
    "          f\"{config_co['port']}/{config_co['dbname']}\")\n",
    "url_etl = (f\"{config_etl['drivername']}://{config_etl['user']}:{config_etl['password']}@{config_etl['host']}:\"\n",
    "           f\"{config_etl['port']}/{config_etl['dbname']}\")\n",
    "# Create the SQLAlchemy Engine\n",
    "co_sa = create_engine(url_co)\n",
    "etl_conn = create_engine(url_etl)"
   ],
   "id": "144a0300670ffeb2",
   "execution_count": 2,
   "outputs": []
  },
  {
   "metadata": {},
   "cell_type": "markdown",
   "source": "# Extract",
   "id": "81c0463f41c69b6e"
  },
  {
   "metadata": {
    "ExecuteTime": {
     "end_time": "2024-04-23T13:52:05.219217Z",
     "start_time": "2024-04-23T13:52:04.847939Z"
    }
   },
   "cell_type": "code",
   "source": "dim_medico = pd.read_sql_table('medico', co_sa)\n",
   "id": "b6ef98438750beb7",
   "execution_count": 3,
   "outputs": []
  },
  {
   "metadata": {},
   "cell_type": "markdown",
   "source": "# Transformations",
   "id": "bcbf3f52656f1933"
  },
  {
   "metadata": {
    "ExecuteTime": {
     "end_time": "2024-04-23T13:52:05.258052Z",
     "start_time": "2024-04-23T13:52:05.220623Z"
    }
   },
   "cell_type": "code",
   "source": "dim_medico.info()",
   "id": "d7b1fb301e19108b",
   "execution_count": 4,
   "outputs": []
  },
  {
   "metadata": {
    "ExecuteTime": {
     "end_time": "2024-04-23T13:52:05.450263Z",
     "start_time": "2024-04-23T13:52:05.259141Z"
    }
   },
   "cell_type": "code",
   "source": "dim_medico.describe(include='all')",
   "id": "ddc5975789c71bc7",
   "execution_count": 5,
   "outputs": []
  },
  {
   "metadata": {
    "ExecuteTime": {
     "end_time": "2024-04-23T13:52:05.522485Z",
     "start_time": "2024-04-23T13:52:05.453906Z"
    }
   },
   "cell_type": "code",
   "source": [
    " dim_medico.replace({np.nan: 'no aplica', ' ': 'no aplica','':'no_aplica'}, inplace=True)\n",
    "dim_medico[\"saved\"] = date.today()"
   ],
   "id": "af5f63e584e7908",
   "execution_count": 6,
   "outputs": []
  },
  {
   "metadata": {},
   "cell_type": "markdown",
   "source": "# load",
   "id": "a8fea8d82baea651"
  },
  {
   "metadata": {
    "ExecuteTime": {
     "end_time": "2024-04-23T13:52:05.693300Z",
     "start_time": "2024-04-23T13:52:05.523640Z"
    }
   },
   "cell_type": "code",
   "source": "dim_medico.head()",
   "id": "f610d5a71a15d10",
   "execution_count": 7,
   "outputs": []
  },
  {
   "metadata": {
    "ExecuteTime": {
     "end_time": "2024-04-23T13:52:05.980932Z",
     "start_time": "2024-04-23T13:52:05.694268Z"
    }
   },
   "cell_type": "code",
   "source": "dim_medico.to_sql('dim_medico', etl_conn, if_exists='replace',index_label='key_dim_medico')",
   "id": "e0fed4f656eaae09",
   "execution_count": 8,
   "outputs": []
  },
  {
   "metadata": {
    "ExecuteTime": {
     "end_time": "2024-04-23T13:52:05.983937Z",
     "start_time": "2024-04-23T13:52:05.981984Z"
    }
   },
   "cell_type": "code",
   "source": "",
   "id": "8a27d266e0d4393",
   "execution_count": 8,
   "outputs": []
  }
 ],
 "metadata": {
  "kernelspec": {
   "display_name": "Python 3",
   "language": "python",
   "name": "python3"
  },
  "language_info": {
   "codemirror_mode": {
    "name": "ipython",
    "version": 2
   },
   "file_extension": ".py",
   "mimetype": "text/x-python",
   "name": "python",
   "nbconvert_exporter": "python",
   "pygments_lexer": "ipython2",
   "version": "2.7.6"
  }
 },
 "nbformat": 4,
 "nbformat_minor": 5
}
