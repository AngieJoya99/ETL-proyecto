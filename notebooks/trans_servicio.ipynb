{
 "cells": [
  {
   "cell_type": "code",
   "id": "initial_id",
   "metadata": {
    "collapsed": true,
    "ExecuteTime": {
     "end_time": "2024-04-15T13:19:47.546730Z",
     "start_time": "2024-04-15T13:19:47.189998Z"
    }
   },
   "source": [
    "import datetime\n",
    "\n",
    "import numpy as np\n",
    "import pandas as pd\n",
    "import yaml\n",
    "from sqlalchemy import create_engine\n"
   ],
   "outputs": [],
   "execution_count": 2
  },
  {
   "metadata": {},
   "cell_type": "markdown",
   "source": "# database connections ",
   "id": "db03f95a7df1a4b6"
  },
  {
   "metadata": {
    "ExecuteTime": {
     "end_time": "2024-04-15T14:58:37.985232Z",
     "start_time": "2024-04-15T14:58:37.974952Z"
    }
   },
   "cell_type": "code",
   "source": [
    "with open('config.yml', 'r') as f:\n",
    "    config = yaml.safe_load(f)\n",
    "    config_co = config['CO_SA']\n",
    "    config_etl = config['ETL_PRO']\n",
    "\n",
    "# Construct the database URL\n",
    "url_co = (f\"{config_co['drivername']}://{config_co['user']}:{config_co['password']}@{config_co['host']}:\"\n",
    "          f\"{config_co['port']}/{config_co['dbname']}\")\n",
    "url_etl = (f\"{config_etl['drivername']}://{config_etl['user']}:{config_etl['password']}@{config_etl['host']}:\"\n",
    "           f\"{config_etl['port']}/{config_etl['dbname']}\")\n",
    "# Create the SQLAlchemy Engine\n",
    "co_sa = create_engine(url_co)\n",
    "etl_conn = create_engine(url_etl)"
   ],
   "id": "144a0300670ffeb2",
   "outputs": [],
   "execution_count": 62
  },
  {
   "metadata": {},
   "cell_type": "markdown",
   "source": "# Extract",
   "id": "81c0463f41c69b6e"
  },
  {
   "metadata": {
    "ExecuteTime": {
     "end_time": "2024-04-15T15:14:05.176230Z",
     "start_time": "2024-04-15T15:14:05.067030Z"
    }
   },
   "cell_type": "code",
   "source": [
    "df_citas = pd.read_sql_table('citas_generales', co_sa)\n",
    "df_urgencias = pd.read_sql_table('urgencias', co_sa)\n",
    "df_hosp = pd.read_sql_table('hospitalizaciones', co_sa)"
   ],
   "id": "a72d94e72d050364",
   "outputs": [],
   "execution_count": 79
  },
  {
   "metadata": {},
   "cell_type": "markdown",
   "source": "",
   "id": "f8d106f89e30820a"
  },
  {
   "metadata": {
    "ExecuteTime": {
     "end_time": "2024-04-15T14:59:21.855379Z",
     "start_time": "2024-04-15T14:59:21.847124Z"
    }
   },
   "cell_type": "code",
   "source": "df_hosp.info()",
   "id": "d0c46a86795fc2f8",
   "outputs": [
    {
     "name": "stdout",
     "output_type": "stream",
     "text": [
      "<class 'pandas.core.frame.DataFrame'>\n",
      "RangeIndex: 893 entries, 0 to 892\n",
      "Data columns (total 9 columns):\n",
      " #   Column                    Non-Null Count  Dtype         \n",
      "---  ------                    --------------  -----         \n",
      " 0   codigo_hospitalizacion    893 non-null    object        \n",
      " 1   id_usuario                893 non-null    object        \n",
      " 2   id_medico                 893 non-null    object        \n",
      " 3   fecha_solicitud           893 non-null    datetime64[ns]\n",
      " 4   hora_solicitud            893 non-null    object        \n",
      " 5   fecha_atencion            893 non-null    datetime64[ns]\n",
      " 6   hora_atencion             893 non-null    object        \n",
      " 7   duracion_hospitalizacion  893 non-null    int64         \n",
      " 8   diagnostico               893 non-null    object        \n",
      "dtypes: datetime64[ns](2), int64(1), object(6)\n",
      "memory usage: 62.9+ KB\n"
     ]
    }
   ],
   "execution_count": 70
  },
  {
   "metadata": {},
   "cell_type": "markdown",
   "source": "# Transformations",
   "id": "bcbf3f52656f1933"
  },
  {
   "metadata": {
    "ExecuteTime": {
     "end_time": "2024-04-15T15:19:00.544827Z",
     "start_time": "2024-04-15T15:19:00.017644Z"
    }
   },
   "cell_type": "code",
   "source": [
    "from datetime import  timedelta\n",
    "\n",
    "df_hosp.rename(columns={'codigo_hospitalizacion':'codigo_servicio'} ,inplace=True)\n",
    "df_urgencias.rename(columns={'codigo_urgencia':'codigo_servicio'}, inplace=True)\n",
    "df_citas.rename(columns={'codigo_cita':'codigo_servicio'},inplace=True)\n",
    "\n",
    "df_citas['tipo_servicio'] = 'citas'\n",
    "df_urgencias['tipo_servicio'] = 'urgencias'\n",
    "df_hosp['tipo_servicio'] = 'hospitalizacion'\n",
    "\n",
    "columns = ['codigo_servicio', 'id_usuario','id_medico','fecha_solicitud','fecha_atencion','hora_atencion','hora_solicitud','tipo_servicio']\n",
    "trans_servicio = pd.concat([df_hosp,df_urgencias,df_citas],axis=0)\n",
    "trans_servicio.head()\n",
    "columns = set(trans_servicio.columns) - set(columns)\n",
    "\n",
    "trans_servicio.drop(columns= columns,inplace=True)\n",
    "trans_servicio['fecha_atencion'] = pd.to_datetime(trans_servicio['fecha_atencion'])\n",
    "trans_servicio['fecha_solicitud'] = pd.to_datetime(trans_servicio['fecha_solicitud'])\n",
    "trans_servicio['hora_atencion'] = trans_servicio['hora_atencion'].apply(lambda x : timedelta(hours=x.hour, minutes=x.minute,seconds=x.second))\n",
    "trans_servicio['hora_solicitud'] = trans_servicio['hora_solicitud'].apply(lambda x : timedelta(hours=x.hour, minutes=x.minute,seconds=x.second))\n",
    "trans_servicio['fecha_hora_atencion'] = trans_servicio['fecha_atencion'] + trans_servicio['hora_atencion']\n",
    "trans_servicio['fecha_hora_solicitud'] = trans_servicio['fecha_solicitud'] +trans_servicio['hora_solicitud'] \n",
    "\n",
    "\n",
    "trans_servicio.head()\n"
   ],
   "id": "d7b1fb301e19108b",
   "outputs": [
    {
     "name": "stderr",
     "output_type": "stream",
     "text": [
      "/tmp/ipykernel_17017/3718557008.py:24: UserWarning: the 'timedelta' type is not supported, and will be written as integer values (ns frequency) to the database.\n",
      "  trans_servicio.to_sql('trans_servicio',etl_conn,if_exists='replace',index_label='key_trans')\n"
     ]
    },
    {
     "data": {
      "text/plain": [
       "  codigo_servicio     id_usuario  id_medico fecha_solicitud  hora_solicitud  \\\n",
       "0          808809  1705225684180  272113543      2007-03-19 0 days 08:00:00   \n",
       "1          808811  1705225699140   81113543      2006-12-25 0 days 08:00:00   \n",
       "2          808813  1705225788780  166113543      2007-12-16 0 days 08:00:00   \n",
       "3          808815  1705225786530  228113543      2007-01-07 0 days 08:00:00   \n",
       "4          808817  1705225880540  172113543      2006-10-29 0 days 08:00:00   \n",
       "\n",
       "  fecha_atencion   hora_atencion    tipo_servicio fecha_hora_atencion  \\\n",
       "0     2007-03-19 0 days 08:30:00  hospitalizacion 2007-03-19 08:30:00   \n",
       "1     2006-12-25 0 days 08:30:00  hospitalizacion 2006-12-25 08:30:00   \n",
       "2     2007-12-16 0 days 08:28:00  hospitalizacion 2007-12-16 08:28:00   \n",
       "3     2007-01-07 0 days 08:34:00  hospitalizacion 2007-01-07 08:34:00   \n",
       "4     2006-10-29 0 days 08:26:00  hospitalizacion 2006-10-29 08:26:00   \n",
       "\n",
       "  fecha_hora_solicitud  \n",
       "0  2007-03-19 08:00:00  \n",
       "1  2006-12-25 08:00:00  \n",
       "2  2007-12-16 08:00:00  \n",
       "3  2007-01-07 08:00:00  \n",
       "4  2006-10-29 08:00:00  "
      ],
      "text/html": [
       "<div>\n",
       "<style scoped>\n",
       "    .dataframe tbody tr th:only-of-type {\n",
       "        vertical-align: middle;\n",
       "    }\n",
       "\n",
       "    .dataframe tbody tr th {\n",
       "        vertical-align: top;\n",
       "    }\n",
       "\n",
       "    .dataframe thead th {\n",
       "        text-align: right;\n",
       "    }\n",
       "</style>\n",
       "<table border=\"1\" class=\"dataframe\">\n",
       "  <thead>\n",
       "    <tr style=\"text-align: right;\">\n",
       "      <th></th>\n",
       "      <th>codigo_servicio</th>\n",
       "      <th>id_usuario</th>\n",
       "      <th>id_medico</th>\n",
       "      <th>fecha_solicitud</th>\n",
       "      <th>hora_solicitud</th>\n",
       "      <th>fecha_atencion</th>\n",
       "      <th>hora_atencion</th>\n",
       "      <th>tipo_servicio</th>\n",
       "      <th>fecha_hora_atencion</th>\n",
       "      <th>fecha_hora_solicitud</th>\n",
       "    </tr>\n",
       "  </thead>\n",
       "  <tbody>\n",
       "    <tr>\n",
       "      <th>0</th>\n",
       "      <td>808809</td>\n",
       "      <td>1705225684180</td>\n",
       "      <td>272113543</td>\n",
       "      <td>2007-03-19</td>\n",
       "      <td>0 days 08:00:00</td>\n",
       "      <td>2007-03-19</td>\n",
       "      <td>0 days 08:30:00</td>\n",
       "      <td>hospitalizacion</td>\n",
       "      <td>2007-03-19 08:30:00</td>\n",
       "      <td>2007-03-19 08:00:00</td>\n",
       "    </tr>\n",
       "    <tr>\n",
       "      <th>1</th>\n",
       "      <td>808811</td>\n",
       "      <td>1705225699140</td>\n",
       "      <td>81113543</td>\n",
       "      <td>2006-12-25</td>\n",
       "      <td>0 days 08:00:00</td>\n",
       "      <td>2006-12-25</td>\n",
       "      <td>0 days 08:30:00</td>\n",
       "      <td>hospitalizacion</td>\n",
       "      <td>2006-12-25 08:30:00</td>\n",
       "      <td>2006-12-25 08:00:00</td>\n",
       "    </tr>\n",
       "    <tr>\n",
       "      <th>2</th>\n",
       "      <td>808813</td>\n",
       "      <td>1705225788780</td>\n",
       "      <td>166113543</td>\n",
       "      <td>2007-12-16</td>\n",
       "      <td>0 days 08:00:00</td>\n",
       "      <td>2007-12-16</td>\n",
       "      <td>0 days 08:28:00</td>\n",
       "      <td>hospitalizacion</td>\n",
       "      <td>2007-12-16 08:28:00</td>\n",
       "      <td>2007-12-16 08:00:00</td>\n",
       "    </tr>\n",
       "    <tr>\n",
       "      <th>3</th>\n",
       "      <td>808815</td>\n",
       "      <td>1705225786530</td>\n",
       "      <td>228113543</td>\n",
       "      <td>2007-01-07</td>\n",
       "      <td>0 days 08:00:00</td>\n",
       "      <td>2007-01-07</td>\n",
       "      <td>0 days 08:34:00</td>\n",
       "      <td>hospitalizacion</td>\n",
       "      <td>2007-01-07 08:34:00</td>\n",
       "      <td>2007-01-07 08:00:00</td>\n",
       "    </tr>\n",
       "    <tr>\n",
       "      <th>4</th>\n",
       "      <td>808817</td>\n",
       "      <td>1705225880540</td>\n",
       "      <td>172113543</td>\n",
       "      <td>2006-10-29</td>\n",
       "      <td>0 days 08:00:00</td>\n",
       "      <td>2006-10-29</td>\n",
       "      <td>0 days 08:26:00</td>\n",
       "      <td>hospitalizacion</td>\n",
       "      <td>2006-10-29 08:26:00</td>\n",
       "      <td>2006-10-29 08:00:00</td>\n",
       "    </tr>\n",
       "  </tbody>\n",
       "</table>\n",
       "</div>"
      ]
     },
     "execution_count": 85,
     "metadata": {},
     "output_type": "execute_result"
    }
   ],
   "execution_count": 85
  },
  {
   "metadata": {},
   "cell_type": "markdown",
   "source": "# load",
   "id": "a8fea8d82baea651"
  },
  {
   "metadata": {},
   "cell_type": "code",
   "outputs": [],
   "execution_count": null,
   "source": "trans_servicio.to_sql('trans_servicio',etl_conn,if_exists='replace',index_label='key_trans')",
   "id": "3a8322664978322e"
  }
 ],
 "metadata": {
  "kernelspec": {
   "display_name": "Python 3",
   "language": "python",
   "name": "python3"
  },
  "language_info": {
   "codemirror_mode": {
    "name": "ipython",
    "version": 2
   },
   "file_extension": ".py",
   "mimetype": "text/x-python",
   "name": "python",
   "nbconvert_exporter": "python",
   "pygments_lexer": "ipython2",
   "version": "2.7.6"
  }
 },
 "nbformat": 4,
 "nbformat_minor": 5
}
