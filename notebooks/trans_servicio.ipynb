{
 "cells": [
  {
   "cell_type": "code",
   "id": "initial_id",
   "metadata": {
    "collapsed": true,
    "ExecuteTime": {
     "end_time": "2024-04-23T21:07:32.217305Z",
     "start_time": "2024-04-23T21:07:32.214526Z"
    }
   },
   "source": [
    "import datetime\n",
    "\n",
    "import numpy as np\n",
    "import pandas as pd\n",
    "import yaml\n",
    "from sqlalchemy import create_engine\n"
   ],
   "execution_count": 10,
   "outputs": []
  },
  {
   "metadata": {},
   "cell_type": "markdown",
   "source": "# database connections ",
   "id": "db03f95a7df1a4b6"
  },
  {
   "metadata": {
    "ExecuteTime": {
     "end_time": "2024-04-23T21:07:32.336911Z",
     "start_time": "2024-04-23T21:07:32.224354Z"
    }
   },
   "cell_type": "code",
   "source": [
    "with open('../config.yml', 'r') as f:\n",
    "    config = yaml.safe_load(f)\n",
    "    config_co = config['CO_SA']\n",
    "    config_etl = config['ETL_PRO']\n",
    "\n",
    "# Construct the database URL\n",
    "url_co = (f\"{config_co['drivername']}://{config_co['user']}:{config_co['password']}@{config_co['host']}:\"\n",
    "          f\"{config_co['port']}/{config_co['dbname']}\")\n",
    "url_etl = (f\"{config_etl['drivername']}://{config_etl['user']}:{config_etl['password']}@{config_etl['host']}:\"\n",
    "           f\"{config_etl['port']}/{config_etl['dbname']}\")\n",
    "# Create the SQLAlchemy Engine\n",
    "co_sa = create_engine(url_co)\n",
    "etl_conn = create_engine(url_etl)"
   ],
   "id": "144a0300670ffeb2",
   "execution_count": 11,
   "outputs": []
  },
  {
   "metadata": {},
   "cell_type": "markdown",
   "source": "# Extract",
   "id": "81c0463f41c69b6e"
  },
  {
   "metadata": {
    "ExecuteTime": {
     "end_time": "2024-04-23T21:07:32.555524Z",
     "start_time": "2024-04-23T21:07:32.338343Z"
    }
   },
   "cell_type": "code",
   "source": [
    "df_citas = pd.read_sql_table('citas_generales', co_sa)\n",
    "df_urgencias = pd.read_sql_table('urgencias', co_sa)\n",
    "df_hosp = pd.read_sql_table('hospitalizaciones', co_sa)"
   ],
   "id": "a72d94e72d050364",
   "execution_count": 12,
   "outputs": []
  },
  {
   "metadata": {},
   "cell_type": "markdown",
   "source": "",
   "id": "f8d106f89e30820a"
  },
  {
   "metadata": {
    "ExecuteTime": {
     "end_time": "2024-04-23T21:07:32.563910Z",
     "start_time": "2024-04-23T21:07:32.556350Z"
    }
   },
   "cell_type": "code",
   "source": "df_hosp.info()",
   "id": "d0c46a86795fc2f8",
   "execution_count": 13,
   "outputs": []
  },
  {
   "metadata": {},
   "cell_type": "markdown",
   "source": "# Transformations",
   "id": "bcbf3f52656f1933"
  },
  {
   "metadata": {
    "ExecuteTime": {
     "end_time": "2024-04-23T21:07:32.679924Z",
     "start_time": "2024-04-23T21:07:32.566013Z"
    }
   },
   "cell_type": "code",
   "source": [
    "from datetime import  timedelta\n",
    "\n",
    "df_hosp.rename(columns={'codigo_hospitalizacion':'codigo_servicio'} ,inplace=True)\n",
    "df_urgencias.rename(columns={'codigo_urgencia':'codigo_servicio'}, inplace=True)\n",
    "df_citas.rename(columns={'codigo_cita':'codigo_servicio'},inplace=True)\n",
    "\n",
    "df_citas['tipo_servicio'] = 'citas'\n",
    "df_urgencias['tipo_servicio'] = 'urgencias'\n",
    "df_hosp['tipo_servicio'] = 'hospitalizacion'\n",
    "\n",
    "columns = ['codigo_servicio', 'id_usuario','id_medico','fecha_solicitud','fecha_atencion','hora_atencion','hora_solicitud','tipo_servicio']\n",
    "trans_servicio = pd.concat([df_hosp,df_urgencias,df_citas],axis=0)\n",
    "trans_servicio.head()\n",
    "columns = set(trans_servicio.columns) - set(columns)\n",
    "\n",
    "trans_servicio.drop(columns= columns,inplace=True)\n",
    "\n",
    "trans_servicio['fecha_atencion'] = pd.to_datetime(trans_servicio['fecha_atencion'])\n",
    "trans_servicio['fecha_solicitud'] = pd.to_datetime(trans_servicio['fecha_solicitud'])\n",
    "trans_servicio['hora_atencion'] = trans_servicio['hora_atencion'].apply(lambda x : timedelta(hours=x.hour, minutes=x.minute,seconds=x.second))\n",
    "trans_servicio['hora_solicitud'] = trans_servicio['hora_solicitud'].apply(lambda x : timedelta(hours=x.hour, minutes=x.minute,seconds=x.second))\n",
    "trans_servicio['fecha_hora_atencion'] = trans_servicio['fecha_atencion'] + trans_servicio['hora_atencion']\n",
    "trans_servicio['fecha_hora_solicitud'] = trans_servicio['fecha_solicitud'] +trans_servicio['hora_solicitud'] \n",
    "\n",
    "trans_servicio.reset_index(drop=True,inplace=True)\n",
    "trans_servicio.head()\n"
   ],
   "id": "d7b1fb301e19108b",
   "execution_count": 14,
   "outputs": []
  },
  {
   "metadata": {
    "ExecuteTime": {
     "end_time": "2024-04-23T21:07:32.792597Z",
     "start_time": "2024-04-23T21:07:32.680984Z"
    }
   },
   "cell_type": "code",
   "source": [
    "from datetime import date\n",
    "\n",
    "trans_servicio['saved'] = date.today()"
   ],
   "id": "fcaabbdbae00e9d3",
   "execution_count": 15,
   "outputs": []
  },
  {
   "metadata": {},
   "cell_type": "markdown",
   "source": "# load",
   "id": "a8fea8d82baea651"
  },
  {
   "metadata": {
    "ExecuteTime": {
     "end_time": "2024-04-23T21:07:33.475485Z",
     "start_time": "2024-04-23T21:07:32.794314Z"
    }
   },
   "cell_type": "code",
   "source": "trans_servicio.to_sql('trans_servicio',etl_conn,if_exists='replace',index_label='key_trans_servicio')",
   "id": "3a8322664978322e",
   "execution_count": 16,
   "outputs": []
  },
  {
   "metadata": {
    "ExecuteTime": {
     "end_time": "2024-04-23T21:07:33.487007Z",
     "start_time": "2024-04-23T21:07:33.476737Z"
    }
   },
   "cell_type": "code",
   "source": [
    "trans_servicio.info(\n",
    "    \n",
    ")"
   ],
   "id": "797711b0551df91f",
   "execution_count": 17,
   "outputs": []
  },
  {
   "metadata": {
    "ExecuteTime": {
     "end_time": "2024-04-23T21:07:33.626482Z",
     "start_time": "2024-04-23T21:07:33.488553Z"
    }
   },
   "cell_type": "code",
   "source": "trans_servicio",
   "id": "5e5da3e5badf24f3",
   "execution_count": 18,
   "outputs": []
  },
  {
   "metadata": {
    "ExecuteTime": {
     "end_time": "2024-04-23T21:07:33.630649Z",
     "start_time": "2024-04-23T21:07:33.627976Z"
    }
   },
   "cell_type": "code",
   "source": "",
   "id": "c64011dceda50d80",
   "execution_count": 18,
   "outputs": []
  }
 ],
 "metadata": {
  "kernelspec": {
   "display_name": "Python 3",
   "language": "python",
   "name": "python3"
  },
  "language_info": {
   "codemirror_mode": {
    "name": "ipython",
    "version": 2
   },
   "file_extension": ".py",
   "mimetype": "text/x-python",
   "name": "python",
   "nbconvert_exporter": "python",
   "pygments_lexer": "ipython2",
   "version": "2.7.6"
  }
 },
 "nbformat": 4,
 "nbformat_minor": 5
}
