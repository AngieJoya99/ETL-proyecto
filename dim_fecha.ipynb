{
 "cells": [
  {
   "cell_type": "code",
   "id": "initial_id",
   "metadata": {
    "collapsed": true,
    "ExecuteTime": {
     "end_time": "2024-04-08T17:41:23.785747Z",
     "start_time": "2024-04-08T17:41:21.819106Z"
    }
   },
   "source": [
    "import pandas as pd\n",
    "import numpy as np\n",
    "import holidays\n",
    "import yaml"
   ],
   "outputs": [],
   "execution_count": 3
  },
  {
   "metadata": {},
   "cell_type": "markdown",
   "source": [
    "Para inicializar la dimension creamos un dataframe donde vamos a añadir las fechas y demas campos                   "
   ],
   "id": "3de7b1fcf2a91aec"
  },
  {
   "metadata": {
    "ExecuteTime": {
     "end_time": "2024-04-08T01:43:04.230996Z",
     "start_time": "2024-04-08T01:43:04.224279Z"
    }
   },
   "cell_type": "code",
   "source": [
    "dim_fecha = pd.DataFrame({\n",
    "    \"date\": pd.date_range(start='1/1/2005', end='1/1/2009', freq='D')\n",
    "})\n",
    "dim_fecha.head()"
   ],
   "id": "107951f26f65fdcd",
   "outputs": [
    {
     "data": {
      "text/plain": "        date\n0 2005-01-01\n1 2005-01-02\n2 2005-01-03\n3 2005-01-04\n4 2005-01-05",
      "text/html": "<div>\n<style scoped>\n    .dataframe tbody tr th:only-of-type {\n        vertical-align: middle;\n    }\n\n    .dataframe tbody tr th {\n        vertical-align: top;\n    }\n\n    .dataframe thead th {\n        text-align: right;\n    }\n</style>\n<table border=\"1\" class=\"dataframe\">\n  <thead>\n    <tr style=\"text-align: right;\">\n      <th></th>\n      <th>date</th>\n    </tr>\n  </thead>\n  <tbody>\n    <tr>\n      <th>0</th>\n      <td>2005-01-01</td>\n    </tr>\n    <tr>\n      <th>1</th>\n      <td>2005-01-02</td>\n    </tr>\n    <tr>\n      <th>2</th>\n      <td>2005-01-03</td>\n    </tr>\n    <tr>\n      <th>3</th>\n      <td>2005-01-04</td>\n    </tr>\n    <tr>\n      <th>4</th>\n      <td>2005-01-05</td>\n    </tr>\n  </tbody>\n</table>\n</div>"
     },
     "execution_count": 21,
     "metadata": {},
     "output_type": "execute_result"
    }
   ],
   "execution_count": 21
  },
  {
   "metadata": {},
   "cell_type": "markdown",
   "source": [
    "vamos a añadir algunas columnas como lo son el año, mes, el dia, el dia de la semana y en que quarto del año"
   ],
   "id": "ee541135415548bf"
  },
  {
   "metadata": {
    "ExecuteTime": {
     "end_time": "2024-04-08T01:43:07.067288Z",
     "start_time": "2024-04-08T01:43:07.056211Z"
    }
   },
   "cell_type": "code",
   "source": [
    "dim_fecha[\"year\"] = dim_fecha[\"date\"].dt.year\n",
    "dim_fecha[\"month\"] = dim_fecha[\"date\"].dt.month\n",
    "dim_fecha[\"day\"] = dim_fecha[\"date\"].dt.day\n",
    "dim_fecha[\"weekday\"] = dim_fecha[\"date\"].dt.weekday\n",
    "dim_fecha[\"quarter\"] = dim_fecha[\"date\"].dt.quarter\n",
    "\n",
    "dim_fecha.head()"
   ],
   "id": "db5a5a1e9d28517a",
   "outputs": [
    {
     "data": {
      "text/plain": "        date  year  month  day  weekday  quarter\n0 2005-01-01  2005      1    1        5        1\n1 2005-01-02  2005      1    2        6        1\n2 2005-01-03  2005      1    3        0        1\n3 2005-01-04  2005      1    4        1        1\n4 2005-01-05  2005      1    5        2        1",
      "text/html": "<div>\n<style scoped>\n    .dataframe tbody tr th:only-of-type {\n        vertical-align: middle;\n    }\n\n    .dataframe tbody tr th {\n        vertical-align: top;\n    }\n\n    .dataframe thead th {\n        text-align: right;\n    }\n</style>\n<table border=\"1\" class=\"dataframe\">\n  <thead>\n    <tr style=\"text-align: right;\">\n      <th></th>\n      <th>date</th>\n      <th>year</th>\n      <th>month</th>\n      <th>day</th>\n      <th>weekday</th>\n      <th>quarter</th>\n    </tr>\n  </thead>\n  <tbody>\n    <tr>\n      <th>0</th>\n      <td>2005-01-01</td>\n      <td>2005</td>\n      <td>1</td>\n      <td>1</td>\n      <td>5</td>\n      <td>1</td>\n    </tr>\n    <tr>\n      <th>1</th>\n      <td>2005-01-02</td>\n      <td>2005</td>\n      <td>1</td>\n      <td>2</td>\n      <td>6</td>\n      <td>1</td>\n    </tr>\n    <tr>\n      <th>2</th>\n      <td>2005-01-03</td>\n      <td>2005</td>\n      <td>1</td>\n      <td>3</td>\n      <td>0</td>\n      <td>1</td>\n    </tr>\n    <tr>\n      <th>3</th>\n      <td>2005-01-04</td>\n      <td>2005</td>\n      <td>1</td>\n      <td>4</td>\n      <td>1</td>\n      <td>1</td>\n    </tr>\n    <tr>\n      <th>4</th>\n      <td>2005-01-05</td>\n      <td>2005</td>\n      <td>1</td>\n      <td>5</td>\n      <td>2</td>\n      <td>1</td>\n    </tr>\n  </tbody>\n</table>\n</div>"
     },
     "execution_count": 22,
     "metadata": {},
     "output_type": "execute_result"
    }
   ],
   "execution_count": 22
  },
  {
   "metadata": {},
   "cell_type": "markdown",
   "source": [
    "ahora vamos a añadir la fecha en formato string para los dias, meses    "
   ],
   "id": "b0cbc1ee752498b"
  },
  {
   "metadata": {
    "ExecuteTime": {
     "end_time": "2024-04-08T02:13:36.978433Z",
     "start_time": "2024-04-08T02:13:36.926267Z"
    }
   },
   "cell_type": "code",
   "source": [
    "dim_fecha[\"day_of_year\"] = dim_fecha[\"date\"].dt.day_of_year\n",
    "dim_fecha[\"day_of_month\"] = dim_fecha[\"date\"].dt.days_in_month\n",
    "dim_fecha[\"month_str\"] = dim_fecha[\"date\"].dt.month_name() # run locale -a en unix \n",
    "dim_fecha[\"day_str\"] = dim_fecha[\"date\"].dt.day_name() # locale = 'es_CO.UTF8'\n",
    "dim_fecha[\"date_str\"] = dim_fecha[\"date\"].dt.strftime(\"%d/%m/%Y\")\n",
    "dim_fecha.head()"
   ],
   "id": "4cdf7557314905ff",
   "outputs": [
    {
     "ename": "Error",
     "evalue": "unsupported locale setting",
     "output_type": "error",
     "traceback": [
      "\u001B[0;31m---------------------------------------------------------------------------\u001B[0m",
      "\u001B[0;31mError\u001B[0m                                     Traceback (most recent call last)",
      "Cell \u001B[0;32mIn[44], line 4\u001B[0m\n\u001B[1;32m      2\u001B[0m dim_fecha[\u001B[38;5;124m\"\u001B[39m\u001B[38;5;124mday_of_month\u001B[39m\u001B[38;5;124m\"\u001B[39m] \u001B[38;5;241m=\u001B[39m dim_fecha[\u001B[38;5;124m\"\u001B[39m\u001B[38;5;124mdate\u001B[39m\u001B[38;5;124m\"\u001B[39m]\u001B[38;5;241m.\u001B[39mdt\u001B[38;5;241m.\u001B[39mdays_in_month\n\u001B[1;32m      3\u001B[0m dim_fecha[\u001B[38;5;124m\"\u001B[39m\u001B[38;5;124mmonth_str\u001B[39m\u001B[38;5;124m\"\u001B[39m] \u001B[38;5;241m=\u001B[39m dim_fecha[\u001B[38;5;124m\"\u001B[39m\u001B[38;5;124mdate\u001B[39m\u001B[38;5;124m\"\u001B[39m]\u001B[38;5;241m.\u001B[39mdt\u001B[38;5;241m.\u001B[39mmonth_name(locale \u001B[38;5;241m=\u001B[39m \u001B[38;5;124m\"\u001B[39m\u001B[38;5;124men_US.UTF8\u001B[39m\u001B[38;5;124m\"\u001B[39m)\n\u001B[0;32m----> 4\u001B[0m dim_fecha[\u001B[38;5;124m\"\u001B[39m\u001B[38;5;124mday_str\u001B[39m\u001B[38;5;124m\"\u001B[39m] \u001B[38;5;241m=\u001B[39m dim_fecha[\u001B[38;5;124m\"\u001B[39m\u001B[38;5;124mdate\u001B[39m\u001B[38;5;124m\"\u001B[39m]\u001B[38;5;241m.\u001B[39mdt\u001B[38;5;241m.\u001B[39mday_name(locale \u001B[38;5;241m=\u001B[39m \u001B[38;5;124m'\u001B[39m\u001B[38;5;124mes_CO.UTF8\u001B[39m\u001B[38;5;124m'\u001B[39m)\n\u001B[1;32m      5\u001B[0m dim_fecha[\u001B[38;5;124m\"\u001B[39m\u001B[38;5;124mdate_str\u001B[39m\u001B[38;5;124m\"\u001B[39m] \u001B[38;5;241m=\u001B[39m dim_fecha[\u001B[38;5;124m\"\u001B[39m\u001B[38;5;124mdate\u001B[39m\u001B[38;5;124m\"\u001B[39m]\u001B[38;5;241m.\u001B[39mdt\u001B[38;5;241m.\u001B[39mstrftime(\u001B[38;5;124m\"\u001B[39m\u001B[38;5;132;01m%d\u001B[39;00m\u001B[38;5;124m/\u001B[39m\u001B[38;5;124m%\u001B[39m\u001B[38;5;124mm/\u001B[39m\u001B[38;5;124m%\u001B[39m\u001B[38;5;124mY\u001B[39m\u001B[38;5;124m\"\u001B[39m)\n\u001B[1;32m      6\u001B[0m dim_fecha\u001B[38;5;241m.\u001B[39mhead()\n",
      "File \u001B[0;32m~/Documents/anaconda3/envs/python_etl_CS/lib/python3.11/site-packages/pandas/core/accessor.py:112\u001B[0m, in \u001B[0;36mPandasDelegate._add_delegate_accessors.<locals>._create_delegator_method.<locals>.f\u001B[0;34m(self, *args, **kwargs)\u001B[0m\n\u001B[1;32m    111\u001B[0m \u001B[38;5;28;01mdef\u001B[39;00m \u001B[38;5;21mf\u001B[39m(\u001B[38;5;28mself\u001B[39m, \u001B[38;5;241m*\u001B[39margs, \u001B[38;5;241m*\u001B[39m\u001B[38;5;241m*\u001B[39mkwargs):\n\u001B[0;32m--> 112\u001B[0m     \u001B[38;5;28;01mreturn\u001B[39;00m \u001B[38;5;28mself\u001B[39m\u001B[38;5;241m.\u001B[39m_delegate_method(name, \u001B[38;5;241m*\u001B[39margs, \u001B[38;5;241m*\u001B[39m\u001B[38;5;241m*\u001B[39mkwargs)\n",
      "File \u001B[0;32m~/Documents/anaconda3/envs/python_etl_CS/lib/python3.11/site-packages/pandas/core/indexes/accessors.py:132\u001B[0m, in \u001B[0;36mProperties._delegate_method\u001B[0;34m(self, name, *args, **kwargs)\u001B[0m\n\u001B[1;32m    129\u001B[0m values \u001B[38;5;241m=\u001B[39m \u001B[38;5;28mself\u001B[39m\u001B[38;5;241m.\u001B[39m_get_values()\n\u001B[1;32m    131\u001B[0m method \u001B[38;5;241m=\u001B[39m \u001B[38;5;28mgetattr\u001B[39m(values, name)\n\u001B[0;32m--> 132\u001B[0m result \u001B[38;5;241m=\u001B[39m method(\u001B[38;5;241m*\u001B[39margs, \u001B[38;5;241m*\u001B[39m\u001B[38;5;241m*\u001B[39mkwargs)\n\u001B[1;32m    134\u001B[0m \u001B[38;5;28;01mif\u001B[39;00m \u001B[38;5;129;01mnot\u001B[39;00m is_list_like(result):\n\u001B[1;32m    135\u001B[0m     \u001B[38;5;28;01mreturn\u001B[39;00m result\n",
      "File \u001B[0;32m~/Documents/anaconda3/envs/python_etl_CS/lib/python3.11/site-packages/pandas/core/indexes/extension.py:95\u001B[0m, in \u001B[0;36m_inherit_from_data.<locals>.method\u001B[0;34m(self, *args, **kwargs)\u001B[0m\n\u001B[1;32m     93\u001B[0m \u001B[38;5;28;01mif\u001B[39;00m \u001B[38;5;124m\"\u001B[39m\u001B[38;5;124minplace\u001B[39m\u001B[38;5;124m\"\u001B[39m \u001B[38;5;129;01min\u001B[39;00m kwargs:\n\u001B[1;32m     94\u001B[0m     \u001B[38;5;28;01mraise\u001B[39;00m \u001B[38;5;167;01mValueError\u001B[39;00m(\u001B[38;5;124mf\u001B[39m\u001B[38;5;124m\"\u001B[39m\u001B[38;5;124mcannot use inplace with \u001B[39m\u001B[38;5;132;01m{\u001B[39;00m\u001B[38;5;28mtype\u001B[39m(\u001B[38;5;28mself\u001B[39m)\u001B[38;5;241m.\u001B[39m\u001B[38;5;18m__name__\u001B[39m\u001B[38;5;132;01m}\u001B[39;00m\u001B[38;5;124m\"\u001B[39m)\n\u001B[0;32m---> 95\u001B[0m result \u001B[38;5;241m=\u001B[39m attr(\u001B[38;5;28mself\u001B[39m\u001B[38;5;241m.\u001B[39m_data, \u001B[38;5;241m*\u001B[39margs, \u001B[38;5;241m*\u001B[39m\u001B[38;5;241m*\u001B[39mkwargs)\n\u001B[1;32m     96\u001B[0m \u001B[38;5;28;01mif\u001B[39;00m wrap:\n\u001B[1;32m     97\u001B[0m     \u001B[38;5;28;01mif\u001B[39;00m \u001B[38;5;28misinstance\u001B[39m(result, \u001B[38;5;28mtype\u001B[39m(\u001B[38;5;28mself\u001B[39m\u001B[38;5;241m.\u001B[39m_data)):\n",
      "File \u001B[0;32m~/Documents/anaconda3/envs/python_etl_CS/lib/python3.11/site-packages/pandas/core/arrays/datetimes.py:1362\u001B[0m, in \u001B[0;36mDatetimeArray.day_name\u001B[0;34m(self, locale)\u001B[0m\n\u001B[1;32m   1312\u001B[0m \u001B[38;5;250m\u001B[39m\u001B[38;5;124;03m\"\"\"\u001B[39;00m\n\u001B[1;32m   1313\u001B[0m \u001B[38;5;124;03mReturn the day names with specified locale.\u001B[39;00m\n\u001B[1;32m   1314\u001B[0m \n\u001B[0;32m   (...)\u001B[0m\n\u001B[1;32m   1358\u001B[0m \u001B[38;5;124;03mIndex(['Segunda', 'Terça', 'Quarta'], dtype='object')\u001B[39;00m\n\u001B[1;32m   1359\u001B[0m \u001B[38;5;124;03m\"\"\"\u001B[39;00m\n\u001B[1;32m   1360\u001B[0m values \u001B[38;5;241m=\u001B[39m \u001B[38;5;28mself\u001B[39m\u001B[38;5;241m.\u001B[39m_local_timestamps()\n\u001B[0;32m-> 1362\u001B[0m result \u001B[38;5;241m=\u001B[39m fields\u001B[38;5;241m.\u001B[39mget_date_name_field(\n\u001B[1;32m   1363\u001B[0m     values, \u001B[38;5;124m\"\u001B[39m\u001B[38;5;124mday_name\u001B[39m\u001B[38;5;124m\"\u001B[39m, locale\u001B[38;5;241m=\u001B[39mlocale, reso\u001B[38;5;241m=\u001B[39m\u001B[38;5;28mself\u001B[39m\u001B[38;5;241m.\u001B[39m_creso\n\u001B[1;32m   1364\u001B[0m )\n\u001B[1;32m   1365\u001B[0m result \u001B[38;5;241m=\u001B[39m \u001B[38;5;28mself\u001B[39m\u001B[38;5;241m.\u001B[39m_maybe_mask_results(result, fill_value\u001B[38;5;241m=\u001B[39m\u001B[38;5;28;01mNone\u001B[39;00m)\n\u001B[1;32m   1366\u001B[0m \u001B[38;5;28;01mreturn\u001B[39;00m result\n",
      "File \u001B[0;32mfields.pyx:165\u001B[0m, in \u001B[0;36mpandas._libs.tslibs.fields.get_date_name_field\u001B[0;34m()\u001B[0m\n",
      "File \u001B[0;32mfields.pyx:644\u001B[0m, in \u001B[0;36mpandas._libs.tslibs.fields._get_locale_names\u001B[0;34m()\u001B[0m\n",
      "File \u001B[0;32m~/Documents/anaconda3/envs/python_etl_CS/lib/python3.11/contextlib.py:137\u001B[0m, in \u001B[0;36m_GeneratorContextManager.__enter__\u001B[0;34m(self)\u001B[0m\n\u001B[1;32m    135\u001B[0m \u001B[38;5;28;01mdel\u001B[39;00m \u001B[38;5;28mself\u001B[39m\u001B[38;5;241m.\u001B[39margs, \u001B[38;5;28mself\u001B[39m\u001B[38;5;241m.\u001B[39mkwds, \u001B[38;5;28mself\u001B[39m\u001B[38;5;241m.\u001B[39mfunc\n\u001B[1;32m    136\u001B[0m \u001B[38;5;28;01mtry\u001B[39;00m:\n\u001B[0;32m--> 137\u001B[0m     \u001B[38;5;28;01mreturn\u001B[39;00m \u001B[38;5;28mnext\u001B[39m(\u001B[38;5;28mself\u001B[39m\u001B[38;5;241m.\u001B[39mgen)\n\u001B[1;32m    138\u001B[0m \u001B[38;5;28;01mexcept\u001B[39;00m \u001B[38;5;167;01mStopIteration\u001B[39;00m:\n\u001B[1;32m    139\u001B[0m     \u001B[38;5;28;01mraise\u001B[39;00m \u001B[38;5;167;01mRuntimeError\u001B[39;00m(\u001B[38;5;124m\"\u001B[39m\u001B[38;5;124mgenerator didn\u001B[39m\u001B[38;5;124m'\u001B[39m\u001B[38;5;124mt yield\u001B[39m\u001B[38;5;124m\"\u001B[39m) \u001B[38;5;28;01mfrom\u001B[39;00m \u001B[38;5;28;01mNone\u001B[39;00m\n",
      "File \u001B[0;32m~/Documents/anaconda3/envs/python_etl_CS/lib/python3.11/site-packages/pandas/_config/localization.py:47\u001B[0m, in \u001B[0;36mset_locale\u001B[0;34m(new_locale, lc_var)\u001B[0m\n\u001B[1;32m     44\u001B[0m current_locale \u001B[38;5;241m=\u001B[39m locale\u001B[38;5;241m.\u001B[39msetlocale(lc_var)\n\u001B[1;32m     46\u001B[0m \u001B[38;5;28;01mtry\u001B[39;00m:\n\u001B[0;32m---> 47\u001B[0m     locale\u001B[38;5;241m.\u001B[39msetlocale(lc_var, new_locale)\n\u001B[1;32m     48\u001B[0m     normalized_code, normalized_encoding \u001B[38;5;241m=\u001B[39m locale\u001B[38;5;241m.\u001B[39mgetlocale()\n\u001B[1;32m     49\u001B[0m     \u001B[38;5;28;01mif\u001B[39;00m normalized_code \u001B[38;5;129;01mis\u001B[39;00m \u001B[38;5;129;01mnot\u001B[39;00m \u001B[38;5;28;01mNone\u001B[39;00m \u001B[38;5;129;01mand\u001B[39;00m normalized_encoding \u001B[38;5;129;01mis\u001B[39;00m \u001B[38;5;129;01mnot\u001B[39;00m \u001B[38;5;28;01mNone\u001B[39;00m:\n",
      "File \u001B[0;32m~/Documents/anaconda3/envs/python_etl_CS/lib/python3.11/locale.py:627\u001B[0m, in \u001B[0;36msetlocale\u001B[0;34m(category, locale)\u001B[0m\n\u001B[1;32m    624\u001B[0m \u001B[38;5;28;01mif\u001B[39;00m locale \u001B[38;5;129;01mand\u001B[39;00m \u001B[38;5;129;01mnot\u001B[39;00m \u001B[38;5;28misinstance\u001B[39m(locale, _builtin_str):\n\u001B[1;32m    625\u001B[0m     \u001B[38;5;66;03m# convert to string\u001B[39;00m\n\u001B[1;32m    626\u001B[0m     locale \u001B[38;5;241m=\u001B[39m normalize(_build_localename(locale))\n\u001B[0;32m--> 627\u001B[0m \u001B[38;5;28;01mreturn\u001B[39;00m _setlocale(category, locale)\n",
      "\u001B[0;31mError\u001B[0m: unsupported locale setting"
     ]
    }
   ],
   "execution_count": 44
  },
  {
   "cell_type": "markdown",
   "source": [
    "# holidays and weekend"
   ],
   "metadata": {
    "collapsed": false
   },
   "id": "926c2ee56ef05b69"
  },
  {
   "metadata": {
    "ExecuteTime": {
     "end_time": "2024-04-08T02:25:00.900372Z",
     "start_time": "2024-04-08T02:25:00.880995Z"
    }
   },
   "cell_type": "code",
   "outputs": [
    {
     "data": {
      "text/plain": "        date  year  month  day  weekday  quarter  day_of_year  day_of_month  \\\n0 2005-01-01  2005      1    1        5        1            1            31   \n1 2005-01-02  2005      1    2        6        1            2            31   \n2 2005-01-03  2005      1    3        0        1            3            31   \n3 2005-01-04  2005      1    4        1        1            4            31   \n4 2005-01-05  2005      1    5        2        1            5            31   \n\n  month_str    day_str    date_str  is_Holiday    holiday  weekend  \n0   January   Saturday  01/01/2005        True  Año Nuevo     True  \n1   January     Sunday  02/01/2005       False       None     True  \n2   January     Monday  03/01/2005       False       None    False  \n3   January    Tuesday  04/01/2005       False       None    False  \n4   January  Wednesday  05/01/2005       False       None    False  ",
      "text/html": "<div>\n<style scoped>\n    .dataframe tbody tr th:only-of-type {\n        vertical-align: middle;\n    }\n\n    .dataframe tbody tr th {\n        vertical-align: top;\n    }\n\n    .dataframe thead th {\n        text-align: right;\n    }\n</style>\n<table border=\"1\" class=\"dataframe\">\n  <thead>\n    <tr style=\"text-align: right;\">\n      <th></th>\n      <th>date</th>\n      <th>year</th>\n      <th>month</th>\n      <th>day</th>\n      <th>weekday</th>\n      <th>quarter</th>\n      <th>day_of_year</th>\n      <th>day_of_month</th>\n      <th>month_str</th>\n      <th>day_str</th>\n      <th>date_str</th>\n      <th>is_Holiday</th>\n      <th>holiday</th>\n      <th>weekend</th>\n    </tr>\n  </thead>\n  <tbody>\n    <tr>\n      <th>0</th>\n      <td>2005-01-01</td>\n      <td>2005</td>\n      <td>1</td>\n      <td>1</td>\n      <td>5</td>\n      <td>1</td>\n      <td>1</td>\n      <td>31</td>\n      <td>January</td>\n      <td>Saturday</td>\n      <td>01/01/2005</td>\n      <td>True</td>\n      <td>Año Nuevo</td>\n      <td>True</td>\n    </tr>\n    <tr>\n      <th>1</th>\n      <td>2005-01-02</td>\n      <td>2005</td>\n      <td>1</td>\n      <td>2</td>\n      <td>6</td>\n      <td>1</td>\n      <td>2</td>\n      <td>31</td>\n      <td>January</td>\n      <td>Sunday</td>\n      <td>02/01/2005</td>\n      <td>False</td>\n      <td>None</td>\n      <td>True</td>\n    </tr>\n    <tr>\n      <th>2</th>\n      <td>2005-01-03</td>\n      <td>2005</td>\n      <td>1</td>\n      <td>3</td>\n      <td>0</td>\n      <td>1</td>\n      <td>3</td>\n      <td>31</td>\n      <td>January</td>\n      <td>Monday</td>\n      <td>03/01/2005</td>\n      <td>False</td>\n      <td>None</td>\n      <td>False</td>\n    </tr>\n    <tr>\n      <th>3</th>\n      <td>2005-01-04</td>\n      <td>2005</td>\n      <td>1</td>\n      <td>4</td>\n      <td>1</td>\n      <td>1</td>\n      <td>4</td>\n      <td>31</td>\n      <td>January</td>\n      <td>Tuesday</td>\n      <td>04/01/2005</td>\n      <td>False</td>\n      <td>None</td>\n      <td>False</td>\n    </tr>\n    <tr>\n      <th>4</th>\n      <td>2005-01-05</td>\n      <td>2005</td>\n      <td>1</td>\n      <td>5</td>\n      <td>2</td>\n      <td>1</td>\n      <td>5</td>\n      <td>31</td>\n      <td>January</td>\n      <td>Wednesday</td>\n      <td>05/01/2005</td>\n      <td>False</td>\n      <td>None</td>\n      <td>False</td>\n    </tr>\n  </tbody>\n</table>\n</div>"
     },
     "execution_count": 55,
     "metadata": {},
     "output_type": "execute_result"
    }
   ],
   "execution_count": 55,
   "source": [
    "co_holidays = holidays.CO(language=\"es\")\n",
    "dim_fecha[\"is_Holiday\"] = dim_fecha[\"date\"].apply(lambda x:  x in co_holidays)\n",
    "dim_fecha[\"holiday\"] = dim_fecha[\"date\"].apply(lambda x: co_holidays.get(x))\n",
    "\n",
    "dim_fecha[\"weekend\"] = dim_fecha[\"weekday\"].apply(lambda x: x>4)\n",
    "dim_fecha.head()\n",
    "\n"
   ],
   "id": "d4a4f14ded7b1018"
  },
  {
   "cell_type": "code",
   "source": [
    "with open(\"config.yml\", 'r') as f:\n",
    "    config = yaml.safe_load(f)\n"
   ],
   "metadata": {
    "collapsed": false,
    "ExecuteTime": {
     "end_time": "2024-04-08T17:41:35.951840Z",
     "start_time": "2024-04-08T17:41:35.936278Z"
    }
   },
   "id": "8d6efe020ae8098d",
   "outputs": [
    {
     "data": {
      "text/plain": [
       "dict"
      ]
     },
     "execution_count": 4,
     "metadata": {},
     "output_type": "execute_result"
    }
   ],
   "execution_count": 4
  }
 ],
 "metadata": {
  "kernelspec": {
   "display_name": "Python 3",
   "language": "python",
   "name": "python3"
  },
  "language_info": {
   "codemirror_mode": {
    "name": "ipython",
    "version": 2
   },
   "file_extension": ".py",
   "mimetype": "text/x-python",
   "name": "python",
   "nbconvert_exporter": "python",
   "pygments_lexer": "ipython2",
   "version": "2.7.6"
  }
 },
 "nbformat": 4,
 "nbformat_minor": 5
}
